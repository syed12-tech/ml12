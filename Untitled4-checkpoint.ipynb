{
 "cells": [
  {
   "cell_type": "code",
   "execution_count": 1,
   "metadata": {},
   "outputs": [
    {
     "data": {
      "text/plain": [
       "(8041, 35)"
      ]
     },
     "execution_count": 1,
     "metadata": {},
     "output_type": "execute_result"
    }
   ],
   "source": [
    "import pandas as pd\n",
    "import numpy as np\n",
    "ds=pd.read_csv(\"PCA_practice_dataset.csv\")\n",
    "ds.head()\n",
    "X=ds.to_numpy()\n",
    "X.shape"
   ]
  },
  {
   "cell_type": "code",
   "execution_count": 2,
   "metadata": {},
   "outputs": [],
   "source": [
    "from sklearn.decomposition import PCA\n",
    "from sklearn.preprocessing import StandardScaler\n",
    "scaler=StandardScaler()\n",
    "X=scaler.fit_transform(X)"
   ]
  },
  {
   "cell_type": "code",
   "execution_count": 5,
   "metadata": {},
   "outputs": [
    {
     "name": "stdout",
     "output_type": "stream",
     "text": [
      "components required for 90% threshold are:2\n",
      "components required for 91% threshold are:2\n",
      "components required for 92% threshold are:3\n",
      "components required for 93% threshold are:3\n",
      "components required for 94% threshold are:4\n",
      "components required for 95% threshold are:4\n",
      "components required for 96% threshold are:5\n",
      "components required for 97% threshold are:6\n"
     ]
    }
   ],
   "source": [
    "pca=PCA()\n",
    "X=pca.fit_transform(X)\n",
    "c_v=np.cumsum(pca.explained_variance_ratio_)*100\n",
    "thresholds=[i for i in range(90,97+1,1)]\n",
    "components=[np.argmax(c_v>threshold)for threshold in thresholds]\n",
    "for component,threshold in zip(components,thresholds):\n",
    "    print(\"components required for {}% threshold are:{}\".format(threshold,component))"
   ]
  },
  {
   "cell_type": "code",
   "execution_count": 7,
   "metadata": {},
   "outputs": [
    {
     "data": {
      "image/png": "[encoded data removed]",
      "text/plain": [
       "<Figure size 432x288 with 1 Axes>"
      ]
     },
     "metadata": {
      "needs_background": "light"
     },
     "output_type": "display_data"
    }
   ],
   "source": [
    "import matplotlib.pyplot as plt\n",
    "plt.plot(components,range(90,97+1,1),'ro-',linewidth=2)\n",
    "plt.title('Scree Plot')\n",
    "plt.xlabel('principal component')\n",
    "plt.ylabel('Threshold in %')\n",
    "plt.show()"
   ]
  },
  {
   "cell_type": "code",
   "execution_count": 8,
   "metadata": {},
   "outputs": [
    {
     "name": "stdout",
     "output_type": "stream",
     "text": [
      "performing d.r.to retain 90% threshold\n",
      "after performing d.r. ,new shape of the dataset is: (8041, 2)\n",
      "\n",
      "\n",
      "performing d.r.to retain 91% threshold\n",
      "after performing d.r. ,new shape of the dataset is: (8041, 2)\n",
      "\n",
      "\n",
      "performing d.r.to retain 92% threshold\n",
      "after performing d.r. ,new shape of the dataset is: (8041, 3)\n",
      "\n",
      "\n",
      "performing d.r.to retain 93% threshold\n",
      "after performing d.r. ,new shape of the dataset is: (8041, 3)\n",
      "\n",
      "\n",
      "performing d.r.to retain 94% threshold\n",
      "after performing d.r. ,new shape of the dataset is: (8041, 4)\n",
      "\n",
      "\n",
      "performing d.r.to retain 95% threshold\n",
      "after performing d.r. ,new shape of the dataset is: (8041, 4)\n",
      "\n",
      "\n",
      "performing d.r.to retain 96% threshold\n",
      "after performing d.r. ,new shape of the dataset is: (8041, 5)\n",
      "\n",
      "\n",
      "performing d.r.to retain 97% threshold\n",
      "after performing d.r. ,new shape of the dataset is: (8041, 6)\n",
      "\n",
      "\n"
     ]
    }
   ],
   "source": [
    "X_orig=X\n",
    "for component,var in zip(components,thresholds):\n",
    "    pca=PCA(n_components=component)\n",
    "    X_transformed=pca.fit_transform(X_orig)\n",
    "    print('performing d.r.to retain {}% threshold'.format(var))\n",
    "    print('after performing d.r. ,new shape of the dataset is:',X_transformed.shape)\n",
    "    print('\\n')"
   ]
  },
  {
   "cell_type": "code",
   "execution_count": null,
   "metadata": {},
   "outputs": [],
   "source": []
  }
 ],
 "metadata": {
  "kernelspec": {
   "display_name": "Python 3",
   "language": "python",
   "name": "python3"
  },
  "language_info": {
   "codemirror_mode": {
    "name": "ipython",
    "version": 3
   },
   "file_extension": ".py",
   "mimetype": "text/x-python",
   "name": "python",
   "nbconvert_exporter": "python",
   "pygments_lexer": "ipython3",
   "version": "3.8.3"
  }
 },
 "nbformat": 4,
 "nbformat_minor": 4
}
